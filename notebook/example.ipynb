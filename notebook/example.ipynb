{
 "cells": [
  {
   "cell_type": "raw",
   "metadata": {},
   "source": [
    "This notebook provides an example to the Cluster simulation with CTA."
   ]
  },
  {
   "cell_type": "markdown",
   "metadata": {},
   "source": [
    "# Import"
   ]
  },
  {
   "cell_type": "code",
   "execution_count": 1,
   "metadata": {
    "scrolled": true
   },
   "outputs": [],
   "source": [
    "import astropy.units as u\n",
    "from astropy.coordinates.sky_coordinate import SkyCoord\n",
    "import numpy as np\n",
    "import copy\n",
    "\n",
    "from kesacco import clustpipe"
   ]
  },
  {
   "cell_type": "markdown",
   "metadata": {},
   "source": [
    "# Parameters"
   ]
  },
  {
   "cell_type": "markdown",
   "metadata": {},
   "source": [
    "### Define the simulation"
   ]
  },
  {
   "cell_type": "code",
   "execution_count": 2,
   "metadata": {},
   "outputs": [
    {
     "name": "stdout",
     "output_type": "stream",
     "text": [
      "===============================================================\n",
      "             _  __  ___    __    __     ___   ___   __         \n",
      "            | |/ / | __| /' _/  /  \\   / _/  / _/  /__\\        \n",
      "            |   <  | _|  `._`. | /\\ | | \\__ | \\__ | \\/ |       \n",
      "            |_|\\_\\ |___| |___/ |_||_|  \\__/  \\__/  \\__/        \n",
      "===============================================================\n",
      "Keen Event Simulation and Analysis for CTA Cluster Observations\n",
      "---------------------------------------------------------------\n"
     ]
    }
   ],
   "source": [
    "cpipe = clustpipe.ClusterPipe(silent=False, output_dir='/Users/adam/Project/CTA/Phys/Outputs/KESACCO_example')"
   ]
  },
  {
   "cell_type": "markdown",
   "metadata": {},
   "source": [
    "### Define the cluster object"
   ]
  },
  {
   "cell_type": "code",
   "execution_count": 3,
   "metadata": {},
   "outputs": [
    {
     "name": "stdout",
     "output_type": "stream",
     "text": [
      "--- theta_truncation\n",
      "    1.5 deg\n",
      "    <class 'astropy.units.quantity.Quantity'>\n",
      "--- abundance\n",
      "    0.3\n",
      "    <type 'float'>\n",
      "--- R_truncation\n",
      "    2.02899129613 Mpc\n",
      "    <class 'astropy.units.quantity.Quantity'>\n",
      "--- M500\n",
      "    6.2e+14 solMass\n",
      "    <class 'astropy.units.quantity.Quantity'>\n",
      "--- X_crp_E\n",
      "    {'X': 1.0, 'R_norm': <Quantity 1317.29295619 kpc>}\n",
      "    <type 'dict'>\n",
      "--- map_reso\n",
      "    0.01 deg\n",
      "    <class 'astropy.units.quantity.Quantity'>\n",
      "--- cre1_loss_model\n",
      "    None\n",
      "    <type 'str'>\n",
      "--- theta500\n",
      "    0.973853085549 deg\n",
      "    <class 'astropy.units.quantity.Quantity'>\n",
      "--- Rmin\n",
      "    1.0 kpc\n",
      "    <class 'astropy.units.quantity.Quantity'>\n",
      "--- magfield_model\n",
      "    {'a': 1.33, 'c500': 1.81, 'c': 0.155, 'b': 2.065, 'name': 'GNFW', 'r_p': <Quantity 855.62300911 kpc>, 'P_0': <Quantity 10. uG>}\n",
      "    <type 'dict'>\n",
      "--- density_cre1_model\n",
      "    {'a': 1.33, 'c500': 1.81, 'c': 0.31, 'b': 4.13, 'name': 'GNFW', 'r_p': <Quantity 855.62300911 kpc>, 'P_0': <Quantity 1. adu>}\n",
      "    <type 'dict'>\n",
      "--- density_gas_model\n",
      "    {'name': 'doublebeta', 'beta2': 0.87, 'beta1': 1.8, 'n_01': <Quantity 0.039 1 / cm3>, 'n_02': <Quantity 0.00405 1 / cm3>, 'r_c1': <Quantity 80. kpc>, 'r_c2': <Quantity 280. kpc>}\n",
      "    <type 'dict'>\n",
      "--- Epmin\n",
      "    1.21793391659 GeV\n",
      "    <class 'astropy.units.quantity.Quantity'>\n",
      "--- pp_interaction_model\n",
      "    Pythia8\n",
      "    <type 'str'>\n",
      "--- R500\n",
      "    1317.29295619 kpc\n",
      "    <class 'astropy.units.quantity.Quantity'>\n",
      "--- cosmo\n",
      "    FlatLambdaCDM(name=\"Planck15\", H0=67.7 km / (Mpc s), Om0=0.307, Tcmb0=2.725 K, Neff=3.05, m_nu=[0.   0.   0.06] eV, Ob0=0.0486)\n",
      "    <class 'astropy.cosmology.core.FlatLambdaCDM'>\n",
      "--- Epmax\n",
      "    10.0 PeV\n",
      "    <class 'astropy.units.quantity.Quantity'>\n",
      "--- Npt_per_decade_integ\n",
      "    30\n",
      "    <type 'int'>\n",
      "--- map_coord\n",
      "    <SkyCoord (ICRS): (ra, dec) in deg\n",
      "    (0., 0.)>\n",
      "    <class 'astropy.coordinates.sky_coordinate.SkyCoord'>\n",
      "--- EBL_model\n",
      "    dominguez\n",
      "    <type 'str'>\n",
      "--- silent\n",
      "    True\n",
      "    <type 'bool'>\n",
      "--- D_ang\n",
      "    77.5017586248 Mpc\n",
      "    <class 'astropy.units.quantity.Quantity'>\n",
      "--- helium_mass_fraction\n",
      "    0.2735\n",
      "    <type 'float'>\n",
      "--- density_crp_model\n",
      "    {'name': 'doublebeta', 'beta1': 1.8, 'n_01': <Quantity 1. adu>, 'n_02': <Quantity 0.10384615 adu>, 'r_c1': <Quantity 80. kpc>, 'r_c2': <Quantity 280. kpc>, 'beta2': 0.87}\n",
      "    <type 'dict'>\n",
      "--- metallicity_sol\n",
      "    0.0153\n",
      "    <type 'float'>\n",
      "--- spectrum_crp_model\n",
      "    {'Index': 2.2, 'name': 'PowerLaw'}\n",
      "    <type 'dict'>\n",
      "--- map_fov\n",
      "    [5. 5.] deg\n",
      "    <class 'astropy.units.quantity.Quantity'>\n",
      "--- D_lum\n",
      "    80.301153922 Mpc\n",
      "    <class 'astropy.units.quantity.Quantity'>\n",
      "--- hse_bias\n",
      "    0.2\n",
      "    <type 'float'>\n",
      "--- Eemax\n",
      "    10.0 PeV\n",
      "    <class 'astropy.units.quantity.Quantity'>\n",
      "--- coord\n",
      "    <SkyCoord (ICRS): (ra, dec) in deg\n",
      "    (49.94666667, 41.51305556)>\n",
      "    <class 'astropy.coordinates.sky_coordinate.SkyCoord'>\n",
      "--- redshift\n",
      "    0.0179\n",
      "    <type 'float'>\n",
      "--- Eemin\n",
      "    0.000510998946269 GeV\n",
      "    <class 'astropy.units.quantity.Quantity'>\n",
      "--- name\n",
      "    Perseus\n",
      "    <type 'str'>\n",
      "--- map_header\n",
      "    None\n",
      "    <type 'NoneType'>\n",
      "--- output_dir\n",
      "    /Users/adam/Project/CTA/Phys/Outputs/KESACCO_example\n",
      "    <type 'str'>\n",
      "--- X_cre1_E\n",
      "    {'X': 0.01, 'R_norm': <Quantity 1548.6776465 kpc>}\n",
      "    <type 'dict'>\n",
      "--- spectrum_cre1_model\n",
      "    {'Index': 3.0, 'PivotEnergy': <Quantity 1. TeV>, 'name': 'PowerLaw'}\n",
      "    <type 'dict'>\n",
      "--- pressure_gas_model\n",
      "    {'a': 1.33, 'c': 0.31, 'b': 4.13, 'name': 'GNFW', 'r_p': <Quantity 727.78616364 kpc>, 'c500': 1.81, 'P_0': <Quantity 0.01747178 keV / cm3>}\n",
      "    <type 'dict'>\n"
     ]
    }
   ],
   "source": [
    "# Set the cluster basic properties\n",
    "cpipe.cluster.name     = 'Perseus'\n",
    "cpipe.cluster.redshift = 0.0179\n",
    "cpipe.cluster.M500     = 6.2e14*u.solMass # Used for getting R500 and the pressure profile\n",
    "cpipe.cluster.coord    = SkyCoord(\"3h19m47.2s +41d30m47s\", frame='icrs')\n",
    "\n",
    "# Truncate the cluster at 1.5 deg to allow small map field of view (for faster code) without loss of flux\n",
    "cpipe.cluster.theta_truncation = 1.5*u.deg\n",
    "\n",
    "# The target gas density [Churazov et al. 2003]\n",
    "cpipe.cluster.density_gas_model = {'name':'doublebeta', 'beta1':1.8, 'r_c1':80*u.kpc, 'n_01':3.9e-2*u.cm**-3,\n",
    "                                   'beta2':0.87, 'r_c2':280*u.kpc, 'n_02':4.05e-3*u.cm**-3}\n",
    "\n",
    "# The thermal profile (assuming Planck 2013 UPP)\n",
    "cpipe.cluster.set_pressure_gas_gNFW_param('P13UPP')\n",
    "\n",
    "# CR physics\n",
    "cpipe.cluster.spectrum_crp_model = {'name':'PowerLaw', 'Index':2.2}\n",
    "cpipe.cluster.set_density_crp_isodens_scal_param(scal=1.0)    # Assumes that CR follow thermal gas density\n",
    "cpipe.cluster.X_crp_E = {'X':1.0, 'R_norm':cpipe.cluster.R500} # Assumes large amount of CR (10% instead of ~1% of E_th)\n",
    "\n",
    "# Sampling\n",
    "cpipe.cluster.map_reso = 0.01*u.deg      # Ideally should be few times smaller than the PSF\n",
    "cpipe.cluster.Npt_per_decade_integ = 30\n",
    "\n",
    "# Get information about the state of the cluster model\n",
    "cpipe.cluster.print_param()"
   ]
  },
  {
   "cell_type": "markdown",
   "metadata": {},
   "source": [
    "### Define the point source object"
   ]
  },
  {
   "cell_type": "raw",
   "metadata": {},
   "source": [
    "The definition of the source properties follows the scheme used for ctools"
   ]
  },
  {
   "cell_type": "code",
   "execution_count": 4,
   "metadata": {},
   "outputs": [],
   "source": [
    "# source 1\n",
    "name='NGC1275'\n",
    "spatial={'type':'PointSource',\n",
    "         'param':{'RA': {'value':SkyCoord(\"3h19m48.16s +41d30m42s\").ra.to('deg'),  'free':False},\n",
    "                  'DEC':{'value':SkyCoord(\"3h19m48.16s +41d30m42s\").dec.to('deg'), 'free':False}}}\n",
    "spectral={'type':'PowerLaw',\n",
    "          'param':{'Prefactor':{'value':2.1e-11/u.cm**2/u.TeV/u.s, 'free':True},\n",
    "                   'Index':{'value':-3.6, 'free':True},\n",
    "                   'PivotEnergy':{'value':0.2*u.TeV, 'free':False}}}\n",
    "\n",
    "cpipe.compact_source.add_source(name, spatial, spectral) # Add the source to the model"
   ]
  },
  {
   "cell_type": "code",
   "execution_count": 5,
   "metadata": {},
   "outputs": [],
   "source": [
    "# source 2\n",
    "name='IC310'\n",
    "spatial={'type':'PointSource',\n",
    "         'param':{'RA': {'value':SkyCoord(\"3h16m42.98s +41d19m30s\").ra.to('deg'),  'free':False},\n",
    "                  'DEC':{'value':SkyCoord(\"3h16m42.98s +41d19m30s\").dec.to('deg'), 'free':False}}}\n",
    "spectral={'type':'PowerLaw',\n",
    "          'param':{'Prefactor':{'value':4.3e-12/u.cm**2/u.TeV/u.s, 'free':True},\n",
    "                   'Index':{'value':-1.95, 'free':True},\n",
    "                   'PivotEnergy':{'value':1.0*u.TeV, 'free':False}}}\n",
    "\n",
    "cpipe.compact_source.add_source(name, spatial, spectral)# Add the source to the model"
   ]
  },
  {
   "cell_type": "code",
   "execution_count": 6,
   "metadata": {},
   "outputs": [
    {
     "name": "stdout",
     "output_type": "stream",
     "text": [
      "--- NGC1275\n",
      "    -- Spatial model: PointSource\n",
      "         DEC: {'free': False, 'value': <Latitude 41.51166667 deg>}\n",
      "         RA: {'free': False, 'value': <Longitude 49.95066667 deg>}\n",
      "    -- Spectral model: PowerLaw\n",
      "         Index: {'free': True, 'value': -3.6}\n",
      "         PivotEnergy: {'free': False, 'value': <Quantity 0.2 TeV>}\n",
      "         Prefactor: {'free': True, 'value': <Quantity 2.1e-11 1 / (cm2 s TeV)>}\n",
      "    -- Temporal model: Constant\n",
      "         Normalization: {'free': False, 'value': 1.0}\n",
      "--- IC310\n",
      "    -- Spatial model: PointSource\n",
      "         DEC: {'free': False, 'value': <Latitude 41.325 deg>}\n",
      "         RA: {'free': False, 'value': <Longitude 49.17908333 deg>}\n",
      "    -- Spectral model: PowerLaw\n",
      "         Index: {'free': True, 'value': -1.95}\n",
      "         PivotEnergy: {'free': False, 'value': <Quantity 1. TeV>}\n",
      "         Prefactor: {'free': True, 'value': <Quantity 4.3e-12 1 / (cm2 s TeV)>}\n",
      "    -- Temporal model: Constant\n",
      "         Normalization: {'free': False, 'value': 1.0}\n"
     ]
    }
   ],
   "source": [
    "# Show the status of the compact sources in the sky model\n",
    "cpipe.compact_source.print_source()"
   ]
  },
  {
   "cell_type": "markdown",
   "metadata": {},
   "source": [
    "### Define the observations"
   ]
  },
  {
   "cell_type": "code",
   "execution_count": 7,
   "metadata": {},
   "outputs": [
    {
     "name": "stdout",
     "output_type": "stream",
     "text": [
      "=== Perseus_Ptg1, ObsID 001\n",
      "        RA-Dec:    49.9466666667, 42.5130555556 deg\n",
      "        GLON-GLAT: 150.007878416, -12.4268776697 deg\n",
      "        ROI rad: 5.0 deg\n",
      "        tmin: 2020-01-01T00:00:00.0\n",
      "        tmax: 2020-01-01T00:01:00.0\n",
      "        emin: 0.05 TeV\n",
      "        emax: 100.0 TeV\n",
      "        deadc: 0.95\n",
      "        caldb: prod3b-v2\n",
      "        irf: North_z20_S_5h\n",
      "        bkg: name Background, obsid None, spatial type CTAIrfBackground, spectral type PowerLaw\n",
      "=== Perseus_Ptg2, ObsID 002\n",
      "        RA-Dec:    50.8126920705, 41.0130555556 deg\n",
      "        GLON-GLAT: 151.414154084, -13.3144355262 deg\n",
      "        ROI rad: 5.0 deg\n",
      "        tmin: 2020-01-02T00:00:00.0\n",
      "        tmax: 2020-01-02T00:01:00.0\n",
      "        emin: 0.05 TeV\n",
      "        emax: 100.0 TeV\n",
      "        deadc: 0.95\n",
      "        caldb: prod3b-v2\n",
      "        irf: North_z20_S_5h\n",
      "        bkg: name Background, obsid None, spatial type CTAIrfBackground, spectral type PowerLaw\n",
      "=== Perseus_Ptg3, ObsID 003\n",
      "        RA-Dec:    49.0806412629, 41.0130555556 deg\n",
      "        GLON-GLAT: 150.292888176, -14.0362962002 deg\n",
      "        ROI rad: 5.0 deg\n",
      "        tmin: 2020-01-03T00:00:00.0\n",
      "        tmax: 2020-01-03T00:01:00.0\n",
      "        emin: 0.05 TeV\n",
      "        emax: 100.0 TeV\n",
      "        deadc: 0.95\n",
      "        caldb: prod3b-v2\n",
      "        irf: North_z20_S_5h\n",
      "        bkg: name Background, obsid None, spatial type CTAIrfBackground, spectral type PowerLaw\n"
     ]
    }
   ],
   "source": [
    "# Assumes 3 hours (3 x 1 hours) with pointings 1 deg offset from the cluster in a triangle shape\n",
    "# Use standard IRF\n",
    "\n",
    "# One pointing offset +0 +1\n",
    "cpipe.obs_setup.add_obs(obsid='001', name='Perseus_Ptg1', \n",
    "                        coord=SkyCoord(cpipe.cluster.coord.ra.value+0, cpipe.cluster.coord.dec.value+1, unit='deg'),\n",
    "                        rad=5*u.deg,\n",
    "                        emin=0.05*u.TeV, emax=100*u.TeV,\n",
    "                        caldb='prod3b-v2', irf='North_z20_S_5h',\n",
    "                        tmin='2020-01-01T00:00:00.0', tmax='2020-01-01T00:01:00.0', deadc=0.95)\n",
    "\n",
    "# One pointing offset +sqrt(3)/2 -0.5\n",
    "cpipe.obs_setup.add_obs(obsid='002', name='Perseus_Ptg2', \n",
    "                        coord=SkyCoord(cpipe.cluster.coord.ra.value+np.sqrt(3)/2, cpipe.cluster.coord.dec.value-0.5, unit='deg'),\n",
    "                        rad=5*u.deg, \n",
    "                        emin=0.05*u.TeV, emax=100*u.TeV,\n",
    "                        caldb='prod3b-v2', irf='North_z20_S_5h',\n",
    "                        tmin='2020-01-02T00:00:00.0', tmax='2020-01-02T00:01:00.0', deadc=0.95)\n",
    "\n",
    "# One pointing offset -sqrt(3)/2 -0.5\n",
    "cpipe.obs_setup.add_obs(obsid='003', name='Perseus_Ptg3', \n",
    "                        coord=SkyCoord(cpipe.cluster.coord.ra.value-np.sqrt(3)/2, cpipe.cluster.coord.dec.value-0.5, unit='deg'),\n",
    "                        rad=5*u.deg,\n",
    "                        emin=0.05*u.TeV, emax=100*u.TeV,\n",
    "                        caldb='prod3b-v2', irf='North_z20_S_5h',\n",
    "                        tmin='2020-01-03T00:00:00.0', tmax='2020-01-03T00:01:00.0', deadc=0.95)\n",
    "\n",
    "# Print info\n",
    "cpipe.obs_setup.print_obs()"
   ]
  },
  {
   "cell_type": "markdown",
   "metadata": {},
   "source": [
    "# Run the simulation"
   ]
  },
  {
   "cell_type": "raw",
   "metadata": {},
   "source": [
    "cpipe.run_sim_obs()\n",
    "cpipe.run_sim_quicklook(ShowEvent=True,\n",
    "                        ShowObsDef=True,\n",
    "                        ShowSkyModel=True,\n",
    "                        bkgsubtract='NONE',\n",
    "                        smoothing_FWHM=0.2*u.deg)"
   ]
  },
  {
   "cell_type": "raw",
   "metadata": {},
   "source": [
    "The simulated event files (Event*) and simulation files (Sim*) including quicklook plots should be saved in the output directory, cpipe.output_dir, defined at the initialization."
   ]
  },
  {
   "cell_type": "markdown",
   "metadata": {},
   "source": [
    "# Run the analysis"
   ]
  },
  {
   "cell_type": "code",
   "execution_count": 8,
   "metadata": {},
   "outputs": [],
   "source": [
    "#----- Analysis parameters\n",
    "cpipe.method_binned = True   # Do a binned analysis\n",
    "cpipe.method_stack  = True   # Stack the event from different observations in a single analysis?\n",
    "cpipe.spec_enumbins = 5\n",
    "cpipe.spec_emin     = 50*u.GeV\n",
    "cpipe.spec_emax     = 10*u.TeV\n",
    "\n",
    "# Force the use of the user defined map grid\n",
    "cpipe.map_UsePtgRef     = False\n",
    "# Define the map used for the binned analysis \n",
    "cpipe.map_reso          = 0.05*u.deg # Can be increaded if the code is too slow \n",
    "cpipe.map_fov           = 3*u.deg    # Can also be reduced (but should increase bkg-cluster degeneracy)\n",
    "cpipe.map_coord         = copy.deepcopy(cpipe.cluster.coord)\n",
    "# Define the map used for the template\n",
    "cpipe.cluster.map_fov   = 2.1*cpipe.cluster.theta_truncation\n",
    "cpipe.cluster.map_coord = copy.deepcopy(cpipe.cluster.coord)"
   ]
  },
  {
   "cell_type": "raw",
   "metadata": {},
   "source": [
    "#----- Run the analysis\n",
    "cpipe.run_analysis(refit=False, \n",
    "                   like_accuracy=0.05,\n",
    "                   max_iter=50,\n",
    "                   fix_spat_for_ts=False,\n",
    "                   imaging_bkgsubtract='NONE',\n",
    "                   do_Skymap=True, \n",
    "                   do_SourceDet=True, \n",
    "                   do_ResMap=True, \n",
    "                   do_TSmap=False,           # Warning, TS maps are very long to compute\n",
    "                   profile_reso=0.05*u.deg,\n",
    "                   do_Spec=True, \n",
    "                   do_Butterfly=True, \n",
    "                   do_Resspec=True,\n",
    "                   smoothing_FWHM=0.1*u.deg, \n",
    "                   profile_log=True)"
   ]
  },
  {
   "cell_type": "raw",
   "metadata": {},
   "source": [
    "The analysis files (Ana*) should be saved in the output directory, cpipe.output_dir, defined at the initialization.\n",
    "Instead of running the full analysis at once, it can be done with individual sub-module (see below)"
   ]
  },
  {
   "cell_type": "code",
   "execution_count": 9,
   "metadata": {},
   "outputs": [],
   "source": [
    "#cpipe.run_ana_dataprep(obsID=obsID)"
   ]
  },
  {
   "cell_type": "code",
   "execution_count": 10,
   "metadata": {},
   "outputs": [],
   "source": [
    "#cpipe.run_ana_likelihood(refit=False, like_accuracy=0.05, max_iter=50, fix_spat_for_ts=False)"
   ]
  },
  {
   "cell_type": "code",
   "execution_count": 11,
   "metadata": {},
   "outputs": [],
   "source": [
    "#cpipe.run_ana_imaging(bkgsubtract='NONE', do_TS=False, do_Res=True, do_Skymap=True, do_SourceDet=False)"
   ]
  },
  {
   "cell_type": "code",
   "execution_count": 12,
   "metadata": {},
   "outputs": [],
   "source": [
    "#cpipe.run_ana_spectral(do_Spec=True, do_Butterfly=True, do_Res=True)"
   ]
  },
  {
   "cell_type": "code",
   "execution_count": 13,
   "metadata": {},
   "outputs": [],
   "source": [
    "#cpipe.run_ana_expected_output(obsID=obsID, profile_reso=0.05*u.deg)"
   ]
  },
  {
   "cell_type": "code",
   "execution_count": 14,
   "metadata": {},
   "outputs": [],
   "source": [
    "#cpipe.run_ana_plot(obsID=obsID, profile_log=True, smoothing_FWHM=0.1*u.deg)"
   ]
  },
  {
   "cell_type": "code",
   "execution_count": null,
   "metadata": {},
   "outputs": [
    {
     "name": "stdout",
     "output_type": "stream",
     "text": [
      "    Existing sampler: /Users/adam/Project/CTA/Phys/Outputs/KESACCO_example/Ana_spectrum_Perseus_MCMC_sampler.pkl\n",
      "--- MCMC parameters: \n",
      "    ndim       = 2\n",
      "    nwalkers   = 10\n",
      "    nsteps     = 500\n",
      "    burnin     = 100\n",
      "    conf       = 68.0\n",
      "    reset_mcmc = False\n",
      "--- Start from already existing sampler\n",
      "--- Runing 500 MCMC steps\n"
     ]
    }
   ],
   "source": [
    "cpipe.cluster.Npt_per_decade_integ = 10\n",
    "cpipe.mcmc_nsteps = 500\n",
    "cpipe.mcmc_burnin = 100\n",
    "cpipe.run_ana_mcmc(reset_mcmc=False,restart_mcmc=False)"
   ]
  },
  {
   "cell_type": "code",
   "execution_count": null,
   "metadata": {},
   "outputs": [],
   "source": []
  }
 ],
 "metadata": {
  "kernelspec": {
   "display_name": "Python 2",
   "language": "python",
   "name": "python2"
  },
  "language_info": {
   "codemirror_mode": {
    "name": "ipython",
    "version": 2
   },
   "file_extension": ".py",
   "mimetype": "text/x-python",
   "name": "python",
   "nbconvert_exporter": "python",
   "pygments_lexer": "ipython2",
   "version": "2.7.17"
  }
 },
 "nbformat": 4,
 "nbformat_minor": 2
}
