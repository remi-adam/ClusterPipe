{
 "cells": [
  {
   "cell_type": "raw",
   "metadata": {},
   "source": [
    "This notebook gathers many developements dedicated to test and build the Cluster simulation with CTA."
   ]
  },
  {
   "cell_type": "markdown",
   "metadata": {},
   "source": [
    "# Import"
   ]
  },
  {
   "cell_type": "code",
   "execution_count": 1,
   "metadata": {
    "scrolled": true
   },
   "outputs": [],
   "source": [
    "import astropy.units as u\n",
    "from astropy.coordinates.sky_coordinate import SkyCoord\n",
    "from astropy.io import fits\n",
    "import numpy as np\n",
    "import matplotlib.pyplot as plt\n",
    "import os\n",
    "import copy\n",
    "\n",
    "from kesacco import clustpipe"
   ]
  },
  {
   "cell_type": "markdown",
   "metadata": {},
   "source": [
    "# Parameters"
   ]
  },
  {
   "cell_type": "markdown",
   "metadata": {},
   "source": [
    "### Define the simulation"
   ]
  },
  {
   "cell_type": "code",
   "execution_count": 2,
   "metadata": {},
   "outputs": [
    {
     "name": "stdout",
     "output_type": "stream",
     "text": [
      "===============================================================\n",
      "             _  __  ___    __    __     ___   ___   __         \n",
      "            | |/ / | __| /' _/  /  \\   / _/  / _/  /__\\        \n",
      "            |   <  | _|  `._`. | /\\ | | \\__ | \\__ | \\/ |       \n",
      "            |_|\\_\\ |___| |___/ |_||_|  \\__/  \\__/  \\__/        \n",
      "===============================================================\n",
      "Keen Event Simulation and Analysis for CTA Cluster Observations\n",
      "---------------------------------------------------------------\n"
     ]
    }
   ],
   "source": [
    "cpipe = clustpipe.ClusterPipe(silent=False, output_dir='/Users/adam/Project/CTA/Phys/Outputs/KESACCO_Dev')"
   ]
  },
  {
   "cell_type": "markdown",
   "metadata": {},
   "source": [
    "### Define the cluster object"
   ]
  },
  {
   "cell_type": "code",
   "execution_count": 3,
   "metadata": {},
   "outputs": [
    {
     "name": "stdout",
     "output_type": "stream",
     "text": [
      "--- silent\n",
      "    True\n",
      "    <class 'bool'>\n",
      "--- output_dir\n",
      "    /Users/adam/Project/CTA/Phys/Outputs/KESACCO_Dev\n",
      "    <class 'str'>\n",
      "--- cosmo\n",
      "    FlatLambdaCDM(name=\"Planck15\", H0=67.7 km / (Mpc s), Om0=0.307, Tcmb0=2.725 K, Neff=3.05, m_nu=[0.   0.   0.06] eV, Ob0=0.0486)\n",
      "    <class 'astropy.cosmology.core.FlatLambdaCDM'>\n",
      "--- name\n",
      "    Perseus\n",
      "    <class 'str'>\n",
      "--- coord\n",
      "    <SkyCoord (ICRS): (ra, dec) in deg\n",
      "    (49.94666667, 41.51305556)>\n",
      "    <class 'astropy.coordinates.sky_coordinate.SkyCoord'>\n",
      "--- redshift\n",
      "    0.017284\n",
      "    <class 'float'>\n",
      "--- D_ang\n",
      "    74.8907830317466 Mpc\n",
      "    <class 'astropy.units.quantity.Quantity'>\n",
      "--- D_lum\n",
      "    77.50198024167615 Mpc\n",
      "    <class 'astropy.units.quantity.Quantity'>\n",
      "--- M500\n",
      "    620000000000000.0 solMass\n",
      "    <class 'astropy.units.quantity.Quantity'>\n",
      "--- R500\n",
      "    1317.548394363056 kpc\n",
      "    <class 'astropy.units.quantity.Quantity'>\n",
      "--- theta500\n",
      "    1.0080007077672122 deg\n",
      "    <class 'astropy.units.quantity.Quantity'>\n",
      "--- R_truncation\n",
      "    1.9606361149510187 Mpc\n",
      "    <class 'astropy.units.quantity.Quantity'>\n",
      "--- theta_truncation\n",
      "    1.5 deg\n",
      "    <class 'astropy.units.quantity.Quantity'>\n",
      "--- helium_mass_fraction\n",
      "    0.2735\n",
      "    <class 'float'>\n",
      "--- metallicity_sol\n",
      "    0.0153\n",
      "    <class 'float'>\n",
      "--- abundance\n",
      "    0.3\n",
      "    <class 'float'>\n",
      "--- EBL_model\n",
      "    dominguez\n",
      "    <class 'str'>\n",
      "--- Rmin\n",
      "    1.0 kpc\n",
      "    <class 'astropy.units.quantity.Quantity'>\n",
      "--- hse_bias\n",
      "    0.2\n",
      "    <class 'float'>\n",
      "--- X_crp_E\n",
      "    {'X': 1.0, 'R_norm': <Quantity 1317.54839436 kpc>}\n",
      "    <class 'dict'>\n",
      "--- X_cre1_E\n",
      "    {'X': 0.01, 'R_norm': <Quantity 1548.67764569 kpc>}\n",
      "    <class 'dict'>\n",
      "--- Epmin\n",
      "    1.2179339232022073 GeV\n",
      "    <class 'astropy.units.quantity.Quantity'>\n",
      "--- Epmax\n",
      "    10.0 PeV\n",
      "    <class 'astropy.units.quantity.Quantity'>\n",
      "--- Eemin\n",
      "    0.0005109989499961641 GeV\n",
      "    <class 'astropy.units.quantity.Quantity'>\n",
      "--- Eemax\n",
      "    10.0 PeV\n",
      "    <class 'astropy.units.quantity.Quantity'>\n",
      "--- pp_interaction_model\n",
      "    Pythia8\n",
      "    <class 'str'>\n",
      "--- cre1_loss_model\n",
      "    None\n",
      "    <class 'str'>\n",
      "--- pressure_gas_model\n",
      "    {'name': 'GNFW', 'P_0': <Quantity 0.01745823 keV / cm3>, 'c500': 1.81, 'r_p': <Quantity 727.9272897 kpc>, 'a': 1.33, 'b': 4.13, 'c': 0.31}\n",
      "    <class 'dict'>\n",
      "--- density_gas_model\n",
      "    {'name': 'doublebeta', 'n_01': <Quantity 0.039 1 / cm3>, 'r_c1': <Quantity 80. kpc>, 'beta1': 1.8, 'n_02': <Quantity 0.00405 1 / cm3>, 'r_c2': <Quantity 280. kpc>, 'beta2': 0.87}\n",
      "    <class 'dict'>\n",
      "--- density_crp_model\n",
      "    {'name': 'GNFW', 'P_0': <Quantity 1. adu>, 'c500': 1.81, 'r_p': <Quantity 727.9272897 kpc>, 'a': 1.33, 'b': 4.13, 'c': 0.31}\n",
      "    <class 'dict'>\n",
      "--- density_cre1_model\n",
      "    {'name': 'GNFW', 'P_0': <Quantity 1. adu>, 'c500': 1.81, 'r_p': <Quantity 855.62300867 kpc>, 'a': 1.33, 'b': 4.13, 'c': 0.31}\n",
      "    <class 'dict'>\n",
      "--- magfield_model\n",
      "    {'name': 'GNFW', 'P_0': <Quantity 10. uG>, 'c500': 1.81, 'r_p': <Quantity 855.62300867 kpc>, 'a': 1.33, 'b': 2.065, 'c': 0.155}\n",
      "    <class 'dict'>\n",
      "--- spectrum_crp_model\n",
      "    {'name': 'PowerLaw', 'Index': 2.2}\n",
      "    <class 'dict'>\n",
      "--- spectrum_cre1_model\n",
      "    {'name': 'PowerLaw', 'PivotEnergy': <Quantity 1. TeV>, 'Index': 3.0}\n",
      "    <class 'dict'>\n",
      "--- Npt_per_decade_integ\n",
      "    30\n",
      "    <class 'int'>\n",
      "--- map_coord\n",
      "    <SkyCoord (ICRS): (ra, dec) in deg\n",
      "    (0., 0.)>\n",
      "    <class 'astropy.coordinates.sky_coordinate.SkyCoord'>\n",
      "--- map_reso\n",
      "    0.01 deg\n",
      "    <class 'astropy.units.quantity.Quantity'>\n",
      "--- map_fov\n",
      "    [5. 5.] deg\n",
      "    <class 'astropy.units.quantity.Quantity'>\n",
      "--- map_header\n",
      "    None\n",
      "    <class 'NoneType'>\n"
     ]
    }
   ],
   "source": [
    "# Set the cluster basic properties\n",
    "cpipe.cluster.name     = 'Perseus'\n",
    "cpipe.cluster.redshift = 0.017284\n",
    "cpipe.cluster.M500     = 6.2e14*u.solMass # Used for getting R500 and the pressure profile\n",
    "cpipe.cluster.coord    = SkyCoord(\"3h19m47.2s +41d30m47s\", frame='icrs')\n",
    "\n",
    "# Truncate the cluster at 1.5 deg to allow small map field of view (for faster code) without loss of flux\n",
    "cpipe.cluster.theta_truncation = 1.5*u.deg\n",
    "\n",
    "# The target gas density [Churazov et al. 2003]\n",
    "cpipe.cluster.density_gas_model = {'name':'doublebeta', 'beta1':1.8, 'r_c1':80*u.kpc, 'n_01':3.9e-2*u.cm**-3,\n",
    "                                   'beta2':0.87, 'r_c2':280*u.kpc, 'n_02':4.05e-3*u.cm**-3}\n",
    "\n",
    "# The thermal profile (assuming Planck 2013 UPP)\n",
    "cpipe.cluster.set_pressure_gas_gNFW_param('P13UPP')\n",
    "\n",
    "# CR physics\n",
    "cpipe.cluster.spectrum_crp_model = {'name':'PowerLaw', 'Index':2.2}\n",
    "cpipe.cluster.set_density_crp_isobaric_scal_param(scal=1.0)\n",
    "cpipe.cluster.X_crp_E = {'X':1.0, 'R_norm':cpipe.cluster.R500}\n",
    "\n",
    "# Sampling\n",
    "cpipe.cluster.map_reso = 0.01*u.deg      # Ideally should be few times smaller than the PSF\n",
    "cpipe.cluster.Npt_per_decade_integ = 30\n",
    "\n",
    "# Get information about the state of the cluster model\n",
    "cpipe.cluster.print_param()"
   ]
  },
  {
   "cell_type": "markdown",
   "metadata": {},
   "source": [
    "### Define the point source object"
   ]
  },
  {
   "cell_type": "code",
   "execution_count": 4,
   "metadata": {},
   "outputs": [],
   "source": [
    "name='IC310'\n",
    "spatial={'type':'PointSource',\n",
    "         'param':{'RA': {'value':SkyCoord(\"3h16m42.98s +41d19m30s\").ra.to('deg'),  'free':False},\n",
    "                  'DEC':{'value':SkyCoord(\"3h16m42.98s +41d19m30s\").dec.to('deg'), 'free':False}}}\n",
    "spectral={'type':'PowerLaw',\n",
    "          'param':{'Prefactor':{'value':4.3e-12/u.cm**2/u.TeV/u.s, 'free':True},\n",
    "                   'Index':{'value':-1.95, 'free':True},\n",
    "                   'PivotEnergy':{'value':1.0*u.TeV, 'free':False}}}\n",
    "\n",
    "cpipe.compact_source.add_source(name, spatial, spectral)# Add the source to the model"
   ]
  },
  {
   "cell_type": "markdown",
   "metadata": {},
   "source": [
    "### Define the observations"
   ]
  },
  {
   "cell_type": "code",
   "execution_count": 5,
   "metadata": {},
   "outputs": [
    {
     "name": "stdout",
     "output_type": "stream",
     "text": [
      "=== Perseus_Ptg1, ObsID 001\n",
      "        RA-Dec:    49.94666666666666, 42.51305555555555 deg\n",
      "        GLON-GLAT: 150.0078784158764, -12.426877669678154 deg\n",
      "        ROI rad: 5.0 deg\n",
      "        tmin: 2020-01-01T00:00:00.0\n",
      "        tmax: 2020-01-01T00:30:00.0\n",
      "        emin: 0.05 TeV\n",
      "        emax: 100.0 TeV\n",
      "        deadc: 0.95\n",
      "        caldb: prod3b-v2\n",
      "        irf: North_z20_S_5h\n",
      "        bkg: name Background, obsid None, spatial type CTAIrfBackground, spectral type PowerLaw\n",
      "=== Perseus_Ptg2, ObsID 002\n",
      "        RA-Dec:    50.8126920704511, 41.01305555555555 deg\n",
      "        GLON-GLAT: 151.41415408419417, -13.314435526241189 deg\n",
      "        ROI rad: 5.0 deg\n",
      "        tmin: 2020-01-02T00:00:00.0\n",
      "        tmax: 2020-01-02T00:30:00.0\n",
      "        emin: 0.05 TeV\n",
      "        emax: 100.0 TeV\n",
      "        deadc: 0.95\n",
      "        caldb: prod3b-v2\n",
      "        irf: North_z20_S_5h\n",
      "        bkg: name Background, obsid None, spatial type CTAIrfBackground, spectral type PowerLaw\n"
     ]
    }
   ],
   "source": [
    "cpipe.obs_setup.add_obs(obsid='001', name='Perseus_Ptg1', \n",
    "                        coord=SkyCoord(cpipe.cluster.coord.ra.value+0, cpipe.cluster.coord.dec.value+1, unit='deg'),\n",
    "                        rad=5*u.deg,\n",
    "                        emin=0.05*u.TeV, emax=100*u.TeV,\n",
    "                        caldb='prod3b-v2', irf='North_z20_S_5h',\n",
    "                        tmin='2020-01-01T00:00:00.0', tmax='2020-01-01T00:30:00.0', deadc=0.95)\n",
    "\n",
    "# One pointing offset +sqrt(3)/2 -0.5\n",
    "cpipe.obs_setup.add_obs(obsid='002', name='Perseus_Ptg2', \n",
    "                        coord=SkyCoord(cpipe.cluster.coord.ra.value+np.sqrt(3)/2, cpipe.cluster.coord.dec.value-0.5, unit='deg'),\n",
    "                        rad=5*u.deg, \n",
    "                        emin=0.05*u.TeV, emax=100*u.TeV,\n",
    "                        caldb='prod3b-v2', irf='North_z20_S_5h',\n",
    "                        tmin='2020-01-02T00:00:00.0', tmax='2020-01-02T00:30:00.0', deadc=0.95)\n",
    "\n",
    "# Print info\n",
    "cpipe.obs_setup.print_obs()"
   ]
  },
  {
   "cell_type": "markdown",
   "metadata": {},
   "source": [
    "# Run the simulation"
   ]
  },
  {
   "cell_type": "raw",
   "metadata": {},
   "source": [
    "cpipe.run_sim_obs()\n",
    "cpipe.run_sim_quicklook(ShowEvent=True,\n",
    "                        ShowObsDef=True,\n",
    "                        ShowSkyModel=True,\n",
    "                        bkgsubtract='NONE',\n",
    "                        smoothing_FWHM=0.1*u.deg)"
   ]
  },
  {
   "cell_type": "markdown",
   "metadata": {},
   "source": [
    "# Run the analysis"
   ]
  },
  {
   "cell_type": "code",
   "execution_count": 6,
   "metadata": {},
   "outputs": [],
   "source": [
    "cpipe.cluster.spectrum_crp_model = {'name':'PowerLaw', 'Index':2.5}"
   ]
  },
  {
   "cell_type": "code",
   "execution_count": 7,
   "metadata": {},
   "outputs": [],
   "source": [
    "#----- Analysis parameters\n",
    "cpipe.method_binned = True   # Do a binned analysis\n",
    "cpipe.method_stack  = True   # Stack the event from different observations in a single analysis?\n",
    "cpipe.spec_enumbins = 10\n",
    "cpipe.spec_emin     = 50*u.GeV\n",
    "cpipe.spec_emax     = 10*u.TeV\n",
    "\n",
    "# Force the use of the user defined map grid\n",
    "cpipe.map_UsePtgRef     = False\n",
    "# Define the map used for the binned analysis \n",
    "cpipe.map_reso          = 0.05*u.deg # Can be increaded if the code is too slow \n",
    "cpipe.map_fov           = 3*u.deg    # Can also be reduced (but should increase bkg-cluster degeneracy)\n",
    "cpipe.map_coord         = copy.deepcopy(cpipe.cluster.coord)\n",
    "# Define the map used for the template\n",
    "cpipe.cluster.map_fov   = 2.1*cpipe.cluster.theta_truncation\n",
    "cpipe.cluster.map_coord = copy.deepcopy(cpipe.cluster.coord)"
   ]
  },
  {
   "cell_type": "raw",
   "metadata": {},
   "source": [
    "#----- Run the analysis\n",
    "cpipe.run_analysis(obsID=None,\n",
    "                   do_like=True,\n",
    "                   do_upperlimit=True,\n",
    "                   do_img=True,\n",
    "                   do_spec=True,\n",
    "                   do_timing=True,\n",
    "                   do_expected_output=True,\n",
    "                   do_MCMC=False,\n",
    "                   do_plot=True)"
   ]
  },
  {
   "cell_type": "raw",
   "metadata": {},
   "source": [
    "cpipe.mcmc_nsteps = 10000\n",
    "cpipe.mcmc_burnin = 1000\n",
    "cpipe.run_ana_mcmc(do_spectrum=False, do_profile=True, reset_mcmc=True, run_mcmc=True, GaussLike=False)"
   ]
  },
  {
   "cell_type": "code",
   "execution_count": 8,
   "metadata": {},
   "outputs": [
    {
     "name": "stdout",
     "output_type": "stream",
     "text": [
      "\n",
      "======================================================\n",
      " Starting the data preparation\n",
      "======================================================\n",
      "\n",
      "WARNING: The ONOFF method always uses energy dispersion.\n",
      "         This should be used when simulating the data\n",
      "--> spec_edisp is set to true\n",
      "----- ObsID to be analysed: ['001', '002']\n",
      "\n",
      "=== GApplication ===\n",
      " Name ......................: csphagen\n",
      " Version ...................: 1.7.3\n",
      " inobs .....................: /Users/adam/Project/CTA/Phys/Outputs/KESACCO_Dev/Ana_ObsDef.xml\n",
      " inmodel ...................: /Users/adam/Project/CTA/Phys/Outputs/KESACCO_Dev/Ana_Model_Input_UnStack.xml\n",
      " srcname ...................: Perseus\n",
      " caldb .....................: NONE\n",
      " irf .......................: NONE\n",
      " inexclusion ...............: NONE\n",
      " outobs ....................: /Users/adam/Project/CTA/Phys/Outputs/KESACCO_Dev/Ana_ObsDef_OnOff.xml\n",
      " outmodel ..................: /Users/adam/Project/CTA/Phys/Outputs/KESACCO_Dev/Ana_Model_Input_OnOff.xml\n",
      " prefix ....................: /Users/adam/Project/CTA/Phys/Outputs/KESACCO_Dev/Ana_OnOff\n",
      " ebinalg ...................: LOG\n",
      " emin ......................: 0.05\n",
      " emax ......................: 0.05\n",
      " enumbins ..................: 10\n",
      " ebinfile ..................: NONE\n",
      " ebingamma .................: 1.0\n",
      " srcshape ..................: CIRCLE\n",
      " coordsys ..................: CEL\n",
      " ra ........................: 49.9466666666667\n",
      " dec .......................: 41.5130555555556\n",
      " glon ......................: 184.56\n",
      " glat ......................: -5.79\n",
      " rad .......................: 0.351564727290137\n",
      " srcregfile ................: /Users/adam/Project/CTA/Phys/Outputs/KESACCO_Dev/Ana_ObsDef_OnOff_srcreg.fits\n",
      " bkgmethod .................: REFLECTED\n",
      " bkgregfile ................: /Users/adam/Project/CTA/Phys/Outputs/KESACCO_Dev/Ana_ObsDef_OnOff_bkgreg.fits\n",
      " bkgregmin .................: 2\n",
      " bkgregskip ................: 1\n",
      " use_model_bkg .............: yes\n",
      " maxoffset .................: 4\n",
      " stack .....................: yes\n",
      " etruemin ..................: 0.01\n",
      " etruemax ..................: 300.0\n",
      " etruebins .................: 30\n",
      " nthreads ..................: 0\n",
      " chatter ...................: 2\n",
      " clobber ...................: yes\n",
      " debug .....................: no\n",
      " mode ......................: ql\n",
      " logfile ...................: \n",
      "\n"
     ]
    },
    {
     "data": {
      "text/plain": [
       "(<cscripts.csphagen.csphagen; proxy of <Swig Object of type 'csobservation *' at 0x102b98540> >,)"
      ]
     },
     "execution_count": 8,
     "metadata": {},
     "output_type": "execute_result"
    }
   ],
   "source": [
    "cpipe.method_ana = 'ONOFF'\n",
    "cpipe.run_ana_dataprep(obsID=None, frac_src_on_reg=0.8)"
   ]
  },
  {
   "cell_type": "code",
   "execution_count": 9,
   "metadata": {},
   "outputs": [
    {
     "data": {
      "text/plain": [
       "True"
      ]
     },
     "execution_count": 9,
     "metadata": {},
     "output_type": "execute_result"
    }
   ],
   "source": [
    "cpipe.method_stack"
   ]
  },
  {
   "cell_type": "code",
   "execution_count": 20,
   "metadata": {},
   "outputs": [
    {
     "data": {
      "text/plain": [
       "49.179083333333324"
      ]
     },
     "execution_count": 20,
     "metadata": {},
     "output_type": "execute_result"
    }
   ],
   "source": [
    "cpipe.compact_source.spatial[0]['param']['RA']['value'].to_value('deg')"
   ]
  },
  {
   "cell_type": "code",
   "execution_count": null,
   "metadata": {},
   "outputs": [],
   "source": []
  }
 ],
 "metadata": {
  "kernelspec": {
   "display_name": "Python 3",
   "language": "python",
   "name": "python3"
  },
  "language_info": {
   "codemirror_mode": {
    "name": "ipython",
    "version": 3
   },
   "file_extension": ".py",
   "mimetype": "text/x-python",
   "name": "python",
   "nbconvert_exporter": "python",
   "pygments_lexer": "ipython3",
   "version": "3.7.7"
  }
 },
 "nbformat": 4,
 "nbformat_minor": 2
}
